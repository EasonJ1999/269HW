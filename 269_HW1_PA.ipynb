{
 "cells": [
  {
   "cell_type": "markdown",
   "id": "2629d08f",
   "metadata": {},
   "source": [
    "###                               HW1 Programming Assignment"
   ]
  },
  {
   "cell_type": "markdown",
   "id": "69628a46",
   "metadata": {},
   "source": [
    "1. Because $C$ is a subspace of the nullspace of $H$, which is a full rank matrix on $F_2^((n-k)×n)$, the dimension of $C$ is equal to the number of free variable, which is $n-(n-k)=k$. So, $C$ is a $n×k$ matrix. \n",
    "  \n",
    " Given $C$, H isn’t unique.  "
   ]
  },
  {
   "cell_type": "markdown",
   "id": "72a3e7b3",
   "metadata": {},
   "source": [
    "2. The cardinality of $R(H)$ is equal to the rank of $H$, which is $(n-k)$. "
   ]
  },
  {
   "cell_type": "markdown",
   "id": "894f233b",
   "metadata": {},
   "source": [
    "3. After testing with my checkCodeword function, the answer of $X_1,X_2,X_3$ is:  \n",
    "    False;\tTrue; \tFalse. \n"
   ]
  },
  {
   "cell_type": "code",
   "execution_count": 5,
   "id": "9eef2d4b",
   "metadata": {},
   "outputs": [
    {
     "name": "stdout",
     "output_type": "stream",
     "text": [
      "False\n",
      "True\n",
      "False\n"
     ]
    }
   ],
   "source": [
    "import numpy as np\n",
    "#------------------3\n",
    "def bidot(a,b):\n",
    "    temp=np.dot(a,b)\n",
    "    for i in range(temp.shape[0]):\n",
    "        temp[i]=temp[i]%2\n",
    "    return temp\n",
    "\n",
    "\n",
    "def checkCodeword(H,X):\n",
    "    result=bidot(H,X)\n",
    "    for i in range(result.shape[0]):\n",
    "        if result[i]!=0:\n",
    "            return False\n",
    "    return True\n",
    "\n",
    "H_test=np.mat([[1,0,0,0,1,1,1,0,0,0,1,1,1,0,1],\n",
    "          [0,1,0,0,1,0,0,1,1,0,1,1,0,1,1],\n",
    "          [0,0,1,0,0,1,0,1,0,1,1,0,1,1,1],\n",
    "          [0,0,0,1,0,0,1,0,1,1,0,1,1,1,1]])\n",
    "X1=np.mat([1,1,1,1,1,1,1,0,0,1,0,0,0,0,0])\n",
    "X2=np.mat([1,0,0,1,1,0,0,1,0,1,0,0,0,0,0])\n",
    "X3=np.mat([1,0,0,0,1,0,0,0,0,0,0,0,0,0,1])\n",
    "\n",
    "print(checkCodeword(H_test,X1.T))\n",
    "print(checkCodeword(H_test,X2.T))\n",
    "print(checkCodeword(H_test,X3.T))"
   ]
  },
  {
   "cell_type": "markdown",
   "id": "bcbdddcf",
   "metadata": {},
   "source": [
    "4. The $E$ is:  \n",
    "[[0. 1. 0. 0. 0. 0. 0. 0. 0. 0. 0. 0. 0. 0. 0. 0.]  \n",
    " [0. 0. 1. 0. 0. 0. 0. 0. 0. 0. 0. 0. 0. 0. 0. 0.]  \n",
    " [0. 0. 0. 1. 0. 0. 0. 0. 0. 0. 0. 0. 0. 0. 0. 0.]  \n",
    " [0. 0. 0. 0. 1. 0. 0. 0. 0. 0. 0. 0. 0. 0. 0. 0.]  \n",
    " [0. 0. 0. 0. 0. 1. 0. 0. 0. 0. 0. 0. 0. 0. 0. 0.]  \n",
    " [0. 0. 0. 0. 0. 0. 1. 0. 0. 0. 0. 0. 0. 0. 0. 0.]  \n",
    " [0. 0. 0. 0. 0. 0. 0. 1. 0. 0. 0. 0. 0. 0. 0. 0.]  \n",
    " [0. 0. 0. 0. 0. 0. 0. 0. 1. 0. 0. 0. 0. 0. 0. 0.]  \n",
    " [0. 0. 0. 0. 0. 0. 0. 0. 0. 1. 0. 0. 0. 0. 0. 0.]  \n",
    " [0. 0. 0. 0. 0. 0. 0. 0. 0. 0. 1. 0. 0. 0. 0. 0.]  \n",
    " [0. 0. 0. 0. 0. 0. 0. 0. 0. 0. 0. 1. 0. 0. 0. 0.]  \n",
    " [0. 0. 0. 0. 0. 0. 0. 0. 0. 0. 0. 0. 1. 0. 0. 0.]  \n",
    " [0. 0. 0. 0. 0. 0. 0. 0. 0. 0. 0. 0. 0. 1. 0. 0.]  \n",
    " [0. 0. 0. 0. 0. 0. 0. 0. 0. 0. 0. 0. 0. 0. 1. 0.]  \n",
    " [0. 0. 0. 0. 0. 0. 0. 0. 0. 0. 0. 0. 0. 0. 0. 1.]]    \n",
    "    For $H$ in 3., the $S$ is:  \n",
    "[[0. 1. 0. 0. 0. 1. 1. 1. 0. 0. 0. 1. 1. 1. 0. 1.]  \n",
    " [0. 0. 1. 0. 0. 1. 0. 0. 1. 1. 0. 1. 1. 0. 1. 1.]  \n",
    " [0. 0. 0. 1. 0. 0. 1. 0. 1. 0. 1. 1. 0. 1. 1. 1.]  \n",
    " [0. 0. 0. 0. 1. 0. 0. 1. 0. 1. 1. 0. 1. 1. 1. 1.]]"
   ]
  },
  {
   "cell_type": "code",
   "execution_count": 6,
   "id": "00fbaf15",
   "metadata": {},
   "outputs": [
    {
     "name": "stdout",
     "output_type": "stream",
     "text": [
      "The E is: \n",
      "[[0. 1. 0. 0. 0. 0. 0. 0. 0. 0. 0. 0. 0. 0. 0. 0.]\n",
      " [0. 0. 1. 0. 0. 0. 0. 0. 0. 0. 0. 0. 0. 0. 0. 0.]\n",
      " [0. 0. 0. 1. 0. 0. 0. 0. 0. 0. 0. 0. 0. 0. 0. 0.]\n",
      " [0. 0. 0. 0. 1. 0. 0. 0. 0. 0. 0. 0. 0. 0. 0. 0.]\n",
      " [0. 0. 0. 0. 0. 1. 0. 0. 0. 0. 0. 0. 0. 0. 0. 0.]\n",
      " [0. 0. 0. 0. 0. 0. 1. 0. 0. 0. 0. 0. 0. 0. 0. 0.]\n",
      " [0. 0. 0. 0. 0. 0. 0. 1. 0. 0. 0. 0. 0. 0. 0. 0.]\n",
      " [0. 0. 0. 0. 0. 0. 0. 0. 1. 0. 0. 0. 0. 0. 0. 0.]\n",
      " [0. 0. 0. 0. 0. 0. 0. 0. 0. 1. 0. 0. 0. 0. 0. 0.]\n",
      " [0. 0. 0. 0. 0. 0. 0. 0. 0. 0. 1. 0. 0. 0. 0. 0.]\n",
      " [0. 0. 0. 0. 0. 0. 0. 0. 0. 0. 0. 1. 0. 0. 0. 0.]\n",
      " [0. 0. 0. 0. 0. 0. 0. 0. 0. 0. 0. 0. 1. 0. 0. 0.]\n",
      " [0. 0. 0. 0. 0. 0. 0. 0. 0. 0. 0. 0. 0. 1. 0. 0.]\n",
      " [0. 0. 0. 0. 0. 0. 0. 0. 0. 0. 0. 0. 0. 0. 1. 0.]\n",
      " [0. 0. 0. 0. 0. 0. 0. 0. 0. 0. 0. 0. 0. 0. 0. 1.]]\n",
      "For H in 3., the S is: \n",
      "[[0. 1. 0. 0. 0. 1. 1. 1. 0. 0. 0. 1. 1. 1. 0. 1.]\n",
      " [0. 0. 1. 0. 0. 1. 0. 0. 1. 1. 0. 1. 1. 0. 1. 1.]\n",
      " [0. 0. 0. 1. 0. 0. 1. 0. 1. 0. 1. 1. 0. 1. 1. 1.]\n",
      " [0. 0. 0. 0. 1. 0. 0. 1. 0. 1. 1. 0. 1. 1. 1. 1.]]\n"
     ]
    }
   ],
   "source": [
    "#--------------------------4\n",
    "def buildTable(H):\n",
    "    n=H.shape[1]\n",
    "    E=np.eye(n)\n",
    "    z=np.zeros(n)\n",
    "    E=np.c_[z.T,E]\n",
    "    S=bidot(H,E)\n",
    "    return E,S\n",
    "\n",
    "print(\"The E is: \\n{}\".format(buildTable(H_test)[0]))\n",
    "print(\"For H in 3., the S is: \\n{}\".format(buildTable(H_test)[1]))"
   ]
  },
  {
   "cell_type": "markdown",
   "id": "c6d608f0",
   "metadata": {},
   "source": [
    "5. \tI recalculated the syndrome vector of every vector $e$ and compared the result with $S$ generated in 4. and got the following result:  "
   ]
  },
  {
   "cell_type": "code",
   "execution_count": 7,
   "id": "e60e62dc",
   "metadata": {},
   "outputs": [
    {
     "name": "stdout",
     "output_type": "stream",
     "text": [
      " The syndrome vector [[0. 0. 0. 0.]] of [0. 0. 0. 0. 0. 0. 0. 0. 0. 0. 0. 0. 0. 0. 0.] is in S.\n",
      " The syndrome vector [[1. 0. 0. 0.]] of [1. 0. 0. 0. 0. 0. 0. 0. 0. 0. 0. 0. 0. 0. 0.] is in S.\n",
      " The syndrome vector [[0. 1. 0. 0.]] of [0. 1. 0. 0. 0. 0. 0. 0. 0. 0. 0. 0. 0. 0. 0.] is in S.\n",
      " The syndrome vector [[0. 0. 1. 0.]] of [0. 0. 1. 0. 0. 0. 0. 0. 0. 0. 0. 0. 0. 0. 0.] is in S.\n",
      " The syndrome vector [[0. 0. 0. 1.]] of [0. 0. 0. 1. 0. 0. 0. 0. 0. 0. 0. 0. 0. 0. 0.] is in S.\n",
      " The syndrome vector [[1. 1. 0. 0.]] of [0. 0. 0. 0. 1. 0. 0. 0. 0. 0. 0. 0. 0. 0. 0.] is in S.\n",
      " The syndrome vector [[1. 0. 1. 0.]] of [0. 0. 0. 0. 0. 1. 0. 0. 0. 0. 0. 0. 0. 0. 0.] is in S.\n",
      " The syndrome vector [[1. 0. 0. 1.]] of [0. 0. 0. 0. 0. 0. 1. 0. 0. 0. 0. 0. 0. 0. 0.] is in S.\n",
      " The syndrome vector [[0. 1. 1. 0.]] of [0. 0. 0. 0. 0. 0. 0. 1. 0. 0. 0. 0. 0. 0. 0.] is in S.\n",
      " The syndrome vector [[0. 1. 0. 1.]] of [0. 0. 0. 0. 0. 0. 0. 0. 1. 0. 0. 0. 0. 0. 0.] is in S.\n",
      " The syndrome vector [[0. 0. 1. 1.]] of [0. 0. 0. 0. 0. 0. 0. 0. 0. 1. 0. 0. 0. 0. 0.] is in S.\n",
      " The syndrome vector [[1. 1. 1. 0.]] of [0. 0. 0. 0. 0. 0. 0. 0. 0. 0. 1. 0. 0. 0. 0.] is in S.\n",
      " The syndrome vector [[1. 1. 0. 1.]] of [0. 0. 0. 0. 0. 0. 0. 0. 0. 0. 0. 1. 0. 0. 0.] is in S.\n",
      " The syndrome vector [[1. 0. 1. 1.]] of [0. 0. 0. 0. 0. 0. 0. 0. 0. 0. 0. 0. 1. 0. 0.] is in S.\n",
      " The syndrome vector [[0. 1. 1. 1.]] of [0. 0. 0. 0. 0. 0. 0. 0. 0. 0. 0. 0. 0. 1. 0.] is in S.\n",
      " The syndrome vector [[1. 1. 1. 1.]] of [0. 0. 0. 0. 0. 0. 0. 0. 0. 0. 0. 0. 0. 0. 1.] is in S.\n"
     ]
    }
   ],
   "source": [
    "#--------------------------5\n",
    "n=H_test.shape[1]\n",
    "E=np.eye(n)\n",
    "z=np.zeros(n)\n",
    "E=np.c_[z.T,E]\n",
    "testM=np.mat(bidot(H_test,E))\n",
    "computeM=buildTable(H_test)[1]\n",
    "for i in range(testM.shape[1]):\n",
    "    if ((testM.T)[i]==(computeM.T)[i]).all():\n",
    "        print(\" The syndrome vector {} of {} is in S.\".format(testM.T[i],E.T[i]))"
   ]
  },
  {
   "cell_type": "markdown",
   "id": "00531974",
   "metadata": {},
   "source": [
    "6. (a) I wrote the channelDecode function, the method is to compare the result of $H*E$ with syndrome matrix $S$, and get the $e$ and estimated $x$, the code is as below. I test the function with $X2$ given in 3. and $e=[1,0,0,0,0,0,0,0,0,0,0,0,0,0,0]$, the test result is as below."
   ]
  },
  {
   "cell_type": "code",
   "execution_count": 8,
   "id": "780aaf3d",
   "metadata": {},
   "outputs": [
    {
     "name": "stdout",
     "output_type": "stream",
     "text": [
      "The smallest l1-norm e is: \n",
      "[1. 0. 0. 0. 0. 0. 0. 0. 0. 0. 0. 0. 0. 0. 0.]\n",
      "The estimated x is: \n",
      "[[1. 0. 0. 1. 1. 0. 0. 1. 0. 1. 0. 0. 0. 0. 0.]]\n"
     ]
    }
   ],
   "source": [
    "#-----------------------6(a)\n",
    "def channelDecode(r):\n",
    "    hr=bidot(H_test,r.T)\n",
    "    table_E=buildTable(H_test)[0].T\n",
    "    table_S=buildTable(H_test)[1].T\n",
    "    e_estimate=[]\n",
    "    for i in range(table_S.shape[0]):\n",
    "        if (hr.T==table_S[i]).all():\n",
    "            e_estimate=table_E[i]\n",
    "    x=abs(r-e_estimate)\n",
    "    return e_estimate,x\n",
    "X4=(X2+[1,0,0,0,0,0,0,0,0,0,0,0,0,0,0])%2\n",
    "print(\"The smallest l1-norm e is: \\n{}\".format(channelDecode(X4)[0]))\n",
    "print(\"The estimated x is: \\n{}\".format(channelDecode(X4)[1]))"
   ]
  },
  {
   "cell_type": "markdown",
   "id": "642f5e73",
   "metadata": {},
   "source": [
    "6. (b) All possible received signals with 1 bit error are as below:  \n",
    " [[1. 1. 1. 1. 1. 0. 0. 0. 0. 1. 0. 0. 0. 0. 0.]  \n",
    " [0. 1. 1. 1. 1. 0. 0. 0. 0. 1. 0. 0. 0. 0. 0.]  \n",
    " [1. 0. 1. 1. 1. 0. 0. 0. 0. 1. 0. 0. 0. 0. 0.]  \n",
    " [1. 1. 0. 1. 1. 0. 0. 0. 0. 1. 0. 0. 0. 0. 0.]  \n",
    " [1. 1. 1. 0. 1. 0. 0. 0. 0. 1. 0. 0. 0. 0. 0.]  \n",
    " [1. 1. 1. 1. 0. 0. 0. 0. 0. 1. 0. 0. 0. 0. 0.]  \n",
    " [1. 1. 1. 1. 1. 1. 0. 0. 0. 1. 0. 0. 0. 0. 0.]  \n",
    " [1. 1. 1. 1. 1. 0. 1. 0. 0. 1. 0. 0. 0. 0. 0.]  \n",
    " [1. 1. 1. 1. 1. 0. 0. 1. 0. 1. 0. 0. 0. 0. 0.]  \n",
    " [1. 1. 1. 1. 1. 0. 0. 0. 1. 1. 0. 0. 0. 0. 0.]  \n",
    " [1. 1. 1. 1. 1. 0. 0. 0. 0. 0. 0. 0. 0. 0. 0.]  \n",
    " [1. 1. 1. 1. 1. 0. 0. 0. 0. 1. 1. 0. 0. 0. 0.]  \n",
    " [1. 1. 1. 1. 1. 0. 0. 0. 0. 1. 0. 1. 0. 0. 0.]  \n",
    " [1. 1. 1. 1. 1. 0. 0. 0. 0. 1. 0. 0. 1. 0. 0.]  \n",
    " [1. 1. 1. 1. 1. 0. 0. 0. 0. 1. 0. 0. 0. 1. 0.]  \n",
    " [1. 1. 1. 1. 1. 0. 0. 0. 0. 1. 0. 0. 0. 0. 1.]]  \n",
    "With given X, the success times are: 16.  \n",
    "I tried X2 given in 3., and the success times are: 16. "
   ]
  },
  {
   "cell_type": "code",
   "execution_count": 9,
   "id": "185a64a5",
   "metadata": {},
   "outputs": [
    {
     "name": "stdout",
     "output_type": "stream",
     "text": [
      "All possible received signals with 1 bit error are as below: \n",
      " [[1. 1. 1. 1. 1. 0. 0. 0. 0. 1. 0. 0. 0. 0. 0.]\n",
      " [0. 1. 1. 1. 1. 0. 0. 0. 0. 1. 0. 0. 0. 0. 0.]\n",
      " [1. 0. 1. 1. 1. 0. 0. 0. 0. 1. 0. 0. 0. 0. 0.]\n",
      " [1. 1. 0. 1. 1. 0. 0. 0. 0. 1. 0. 0. 0. 0. 0.]\n",
      " [1. 1. 1. 0. 1. 0. 0. 0. 0. 1. 0. 0. 0. 0. 0.]\n",
      " [1. 1. 1. 1. 0. 0. 0. 0. 0. 1. 0. 0. 0. 0. 0.]\n",
      " [1. 1. 1. 1. 1. 1. 0. 0. 0. 1. 0. 0. 0. 0. 0.]\n",
      " [1. 1. 1. 1. 1. 0. 1. 0. 0. 1. 0. 0. 0. 0. 0.]\n",
      " [1. 1. 1. 1. 1. 0. 0. 1. 0. 1. 0. 0. 0. 0. 0.]\n",
      " [1. 1. 1. 1. 1. 0. 0. 0. 1. 1. 0. 0. 0. 0. 0.]\n",
      " [1. 1. 1. 1. 1. 0. 0. 0. 0. 0. 0. 0. 0. 0. 0.]\n",
      " [1. 1. 1. 1. 1. 0. 0. 0. 0. 1. 1. 0. 0. 0. 0.]\n",
      " [1. 1. 1. 1. 1. 0. 0. 0. 0. 1. 0. 1. 0. 0. 0.]\n",
      " [1. 1. 1. 1. 1. 0. 0. 0. 0. 1. 0. 0. 1. 0. 0.]\n",
      " [1. 1. 1. 1. 1. 0. 0. 0. 0. 1. 0. 0. 0. 1. 0.]\n",
      " [1. 1. 1. 1. 1. 0. 0. 0. 0. 1. 0. 0. 0. 0. 1.]]\n",
      "With given X, the success times are: 16\n",
      "With X2 given in 3., the success times are: 16\n"
     ]
    }
   ],
   "source": [
    "#-----------------------6(b)\n",
    "X_test=np.mat([1,1,1,1,1,0,0,0,0,1,0,0,0,0,0])\n",
    "\n",
    "def add_error(X):\n",
    "    error_1bit=buildTable(H_test)[0].T\n",
    "    X_error=(error_1bit+X)%2\n",
    "    return X_error\n",
    "\n",
    "X_error=add_error(X_test)\n",
    "print(\"All possible received signals with 1 bit error are as below: \\n {}\".format(X_error))\n",
    "\n",
    "def suctimes(Xwitherror,X):\n",
    "    Stimes=0\n",
    "    for i in range(Xwitherror.shape[0]):\n",
    "        X_decode=channelDecode(Xwitherror[i])[1]\n",
    "        if (X_decode==X).all():\n",
    "            Stimes=Stimes+1\n",
    "    return Stimes\n",
    "print(\"With given X, the success times are: {}\".format(suctimes(X_error,X_test)))\n",
    "\n",
    "X_error1=add_error(X2)\n",
    "print(\"With X2 given in 3., the success times are: {}\".format(suctimes(X_error1,X2)))"
   ]
  },
  {
   "cell_type": "markdown",
   "id": "b6e61edd",
   "metadata": {},
   "source": [
    "6. (c) I generated all possible received signals with 2 bits error, and used the smallest l1-norm method to decode, the number of successes is 0.  \n",
    "   I guess with 3 bits error, the success time should be 0, too. Then I generated all possible received signals with 3 bits error to test, the result is indeed 0.    \n",
    "   I think this problem can be generalized to all $Ax=b$ problems. When A satisfies some certain conditions (such as H given in this question), this system of equations can have more than one, even infinite solutions. When we only consider a single solution, for example, the smallest l1- In norm, only one set of solutions can be obtained. In this question, it is more like the basis of other solutions, which can span to other solutions. And there are more solutions that are linear combinations of the solutions we get, so we cannot get the correct answers in 2 bit and 3 bit problems. "
   ]
  },
  {
   "cell_type": "code",
   "execution_count": 68,
   "id": "bf0be519",
   "metadata": {},
   "outputs": [
    {
     "name": "stdout",
     "output_type": "stream",
     "text": [
      "[[0. 0. 1. ... 0. 0. 0.]\n",
      " [0. 1. 0. ... 0. 0. 0.]\n",
      " [0. 1. 1. ... 0. 0. 0.]\n",
      " ...\n",
      " [1. 1. 1. ... 1. 1. 0.]\n",
      " [1. 1. 1. ... 1. 0. 1.]\n",
      " [1. 1. 1. ... 0. 1. 1.]]\n",
      "The number of possible received signals is 105\n",
      "With 2 bit error in X, the success times of smallest l1-norm are: 0\n"
     ]
    }
   ],
   "source": [
    "#-------------------------6(c)\n",
    "from itertools import combinations\n",
    "def add_2biterror(X):\n",
    "    n=H_test.shape[1]\n",
    "    error_2bit=np.zeros([105,n])\n",
    "    X_count=np.arange(0,n,1)\n",
    "    L=list(combinations(X_count,2))\n",
    "    for i in range(105):\n",
    "        error_2bit[i][L[i][0]]=1\n",
    "        error_2bit[i][L[i][1]]=1\n",
    "    X_2biterror=(error_2bit+X)%2\n",
    "    return X_2biterror\n",
    "X_with2biterror=add_2biterror(X_test)\n",
    "print(X_with2biterror)\n",
    "print(\"The number of possible received signals is {}\".format(X_with2biterror.shape[0]))\n",
    "print(\"With 2 bit error in X, the success times of smallest l1-norm are: {}\".format(suctimes(X_with2biterror,X_test)))"
   ]
  },
  {
   "cell_type": "code",
   "execution_count": 67,
   "id": "6d86e348",
   "metadata": {},
   "outputs": [
    {
     "name": "stdout",
     "output_type": "stream",
     "text": [
      "[[0. 0. 0. ... 0. 0. 0.]\n",
      " [0. 0. 1. ... 0. 0. 0.]\n",
      " [0. 0. 1. ... 0. 0. 0.]\n",
      " ...\n",
      " [1. 1. 1. ... 1. 0. 1.]\n",
      " [1. 1. 1. ... 0. 1. 1.]\n",
      " [1. 1. 1. ... 1. 1. 1.]]\n",
      "The number of possible received signals is 455\n",
      "With 3 bit error in X, the success times of smallest l1-norm are: 0\n"
     ]
    }
   ],
   "source": [
    "def add_3biterror(X):\n",
    "    n=H_test.shape[1]\n",
    "    error_3bit=np.zeros([455,n])\n",
    "    X_count=np.arange(0,n,1)\n",
    "    L=list(combinations(X_count,3))\n",
    "    for i in range(455):\n",
    "        error_3bit[i][L[i][0]]=1\n",
    "        error_3bit[i][L[i][1]]=1\n",
    "        error_3bit[i][L[i][2]]=1\n",
    "    X_3biterror=(error_3bit+X)%2\n",
    "    return X_3biterror\n",
    "X_with3biterror=add_3biterror(X_test)\n",
    "print(X_with3biterror)\n",
    "print(\"The number of possible received signals is {}\".format(X_with3biterror.shape[0]))\n",
    "print(\"With 3 bit error in X, the success times of smallest l1-norm are: {}\".format(suctimes(X_with2biterror,X_test)))"
   ]
  }
 ],
 "metadata": {
  "kernelspec": {
   "display_name": "Python 3",
   "language": "python",
   "name": "python3"
  },
  "language_info": {
   "codemirror_mode": {
    "name": "ipython",
    "version": 3
   },
   "file_extension": ".py",
   "mimetype": "text/x-python",
   "name": "python",
   "nbconvert_exporter": "python",
   "pygments_lexer": "ipython3",
   "version": "3.8.8"
  }
 },
 "nbformat": 4,
 "nbformat_minor": 5
}
