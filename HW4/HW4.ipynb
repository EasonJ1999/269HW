{
 "cells": [
  {
   "cell_type": "code",
   "execution_count": 1,
   "id": "b1cbdfec",
   "metadata": {},
   "outputs": [],
   "source": [
    "import pandas as pd\n",
    "import numpy as np\n",
    "import glob \n",
    "import os \n",
    "import PIL\n",
    "import scipy.linalg as la\n",
    "import seaborn as sns\n",
    "import matplotlib.pyplot as plt\n",
    "from matplotlib import image\n",
    "import warnings\n",
    "warnings.filterwarnings(\"ignore\")"
   ]
  },
  {
   "cell_type": "code",
   "execution_count": 2,
   "id": "6a4310bc",
   "metadata": {},
   "outputs": [],
   "source": [
    "def im2matrix(folder):\n",
    "    data=[]\n",
    "    for i in folder:\n",
    "        img_mat=image.imread(i)\n",
    "        img_mat=img_mat.flatten()\n",
    "        data.append(img_mat)\n",
    "    data=np.mat(data)\n",
    "    return(data)\n",
    "\n",
    "neutral_face_train='upload_dataset_100/*a.jpg'\n",
    "neutral_face_train=glob.glob(neutral_face_train)\n",
    "neutral_data_train=im2matrix(neutral_face_train)\n",
    "neutral_data_train=neutral_data_train/255\n",
    "neutral_data_train=neutral_data_train.T\n",
    "\n",
    "smiling_face_train='upload_dataset_100/*b.jpg'\n",
    "smiling_face_train=glob.glob(smiling_face_train)\n",
    "smiling_data_train=im2matrix(smiling_face_train)\n",
    "smiling_data_train=smiling_data_train/255\n",
    "smiling_data_train=smiling_data_train.T\n",
    "\n",
    "neutral_face_test='upload_dataset_71/*a.jpg'\n",
    "neutral_face_test=glob.glob(neutral_face_test)\n",
    "neutral_data_test=im2matrix(neutral_face_test)\n",
    "neutral_data_test=neutral_data_test/255\n",
    "neutral_data_test=neutral_data_test.T\n",
    "\n",
    "smiling_face_test='upload_dataset_71/*b.jpg'\n",
    "smiling_face_test=glob.glob(smiling_face_test)\n",
    "smiling_data_test=im2matrix(smiling_face_test)\n",
    "smiling_data_test=smiling_data_test/255\n",
    "smiling_data_test=smiling_data_test.T"
   ]
  },
  {
   "cell_type": "markdown",
   "id": "a7909490",
   "metadata": {},
   "source": [
    "# 1."
   ]
  },
  {
   "cell_type": "markdown",
   "id": "7a7b7743",
   "metadata": {},
   "source": [
    "### Neutral"
   ]
  },
  {
   "cell_type": "code",
   "execution_count": 3,
   "id": "41b661c0",
   "metadata": {},
   "outputs": [],
   "source": [
    "N=neutral_data_train.shape[1]\n",
    "mean_vec=np.mean(neutral_data_train,axis=1)\n",
    "A=neutral_data_train.copy()\n",
    "for i in range(N): \n",
    "    A[:,i]=A[:,i]-mean_vec\n",
    "svd=A.T*A\n",
    "evals,evecs=la.eig(svd)\n",
    "evecs_new=np.zeros(A.shape)\n",
    "for i in range(N):\n",
    "    Aeigen=A*evecs[:,i].reshape((-1,1))\n",
    "    u=(Aeigen/np.linalg.norm(Aeigen))\n",
    "    evecs_new[:,i]=u.ravel()"
   ]
  },
  {
   "cell_type": "code",
   "execution_count": null,
   "id": "a8789d17",
   "metadata": {},
   "outputs": [],
   "source": [
    "for i in range(10):\n",
    "    plt.imshow(evecs_new[:,i].reshape(193, 162),cmap ='gray')\n",
    "    plt.title('Representative Eigenfaces(N)-{}'.format(i+1))\n",
    "    plt.savefig('Representative Eigenfaces(N)-{}'.format(i+1),bbox_inches='tight')"
   ]
  },
  {
   "cell_type": "code",
   "execution_count": null,
   "id": "e06b3b0a",
   "metadata": {},
   "outputs": [],
   "source": [
    "singular_values=np.sqrt(evals[evals>0])\n",
    "sort_index=np.argsort(singular_values)[::-1]\n",
    "singular_values=singular_values[sort_index]\n",
    "\n",
    "plt.xlabel('Singular Value')\n",
    "plt.ylabel('Number')\n",
    "sns.distplot(singular_values,kde=False);"
   ]
  },
  {
   "cell_type": "markdown",
   "id": "3ff9a6eb",
   "metadata": {},
   "source": [
    "### Smiling"
   ]
  },
  {
   "cell_type": "code",
   "execution_count": 7,
   "id": "4fb9bcdd",
   "metadata": {},
   "outputs": [],
   "source": [
    "N=smiling_data_train.shape[1]\n",
    "mean_vec_s=np.mean(smiling_data_train,axis=1)\n",
    "B=smiling_data_train.copy()\n",
    "for i in range(N): \n",
    "    B[:,i]=B[:,i]-mean_vec_s\n",
    "svd=B.T*B\n",
    "evals,evecs=la.eig(svd)\n",
    "evecs_new_s=np.zeros(B.shape)\n",
    "for i in range(N):\n",
    "    Beigen=B*evecs[:,i].reshape((-1,1))\n",
    "    u=(Beigen/np.linalg.norm(Beigen))\n",
    "    evecs_new_s[:,i]=u.ravel()"
   ]
  },
  {
   "cell_type": "code",
   "execution_count": null,
   "id": "79a82906",
   "metadata": {},
   "outputs": [],
   "source": [
    "for i in range(10):\n",
    "    plt.imshow(evecs_new_s[:,i].reshape(193, 162),cmap ='gray')\n",
    "    plt.title('Representative Eigenfaces(S)-{}'.format(i+1))\n",
    "    plt.savefig('Representative Eigenfaces(S)-{}'.format(i+1),bbox_inches='tight')"
   ]
  },
  {
   "cell_type": "code",
   "execution_count": null,
   "id": "01b60989",
   "metadata": {},
   "outputs": [],
   "source": [
    "singular_values=np.sqrt(evals[evals>0])\n",
    "sort_inex=np.argsort(singular_values)[::-1]\n",
    "singular_values=singular_values[sort_index]\n",
    "\n",
    "plt.xlabel('Singular Value')\n",
    "plt.ylabel('Number')\n",
    "sns.distplot(singular_values,kde=False);"
   ]
  },
  {
   "cell_type": "markdown",
   "id": "da758d27",
   "metadata": {},
   "source": [
    "# 2."
   ]
  },
  {
   "cell_type": "code",
   "execution_count": 15,
   "id": "6a7378ae",
   "metadata": {},
   "outputs": [],
   "source": [
    "def mse(a,b):\n",
    "    dif=a-b\n",
    "    dif=dif.reshape(-1).tolist()[0]\n",
    "    dif=[i**2 for i in dif]\n",
    "    return(np.mean(dif))\n",
    "\n",
    "def reconstruct(original,mean_vec,evecs_new,num_pc=None):\n",
    "    if num_pc: \n",
    "        use_evecs=evecs_new[:,0:num_pc]\n",
    "    else:\n",
    "        num_pc=evecs_new.shape[1]\n",
    "        use_evecs=evecs_new\n",
    "    w=np.zeros(num_pc)\n",
    "    for i in range(num_pc):\n",
    "        w[i]=np.dot(use_evecs[:,i],original)\n",
    "    re=use_evecs*w.reshape((1,-1))\n",
    "    re=np.sum(re,axis=1)\n",
    "    re=255*(mean_vec+re.reshape((-1, 1)))\n",
    "    return(re)"
   ]
  },
  {
   "cell_type": "code",
   "execution_count": null,
   "id": "ee542882",
   "metadata": {},
   "outputs": [],
   "source": [
    "neutral_original=A[:,0]\n",
    "orig_pic_vec=(neutral_original+mean_vec)*255\n",
    "test_pcs=[10,20,30,40,50,60,70,80,90,100]\n",
    "\n",
    "mse_data=[]\n",
    "for i,num_pc in enumerate(test_pcs): \n",
    "    reconstruction=reconstruct(neutral_original,mean_vec,evecs_new,num_pc=num_pc)\n",
    "    mse_val=mse(orig_pic_vec, reconstruction)\n",
    "    mse_data.append([num_pc,mse_val])\n",
    "    plt.imshow(reconstruction.reshape(193,162),cmap ='gray')\n",
    "    plt.title('P={}'.format(num_pc))\n",
    "    plt.savefig('P={},N'.format(num_pc),bbox_inches='tight')"
   ]
  },
  {
   "cell_type": "code",
   "execution_count": null,
   "id": "a47e10b8",
   "metadata": {},
   "outputs": [],
   "source": [
    "mse_data=pd.DataFrame(mse_data,columns=[\"Number of PC\",'MSE'])\n",
    "sns.scatterplot(data=mse_data,x=\"Number of PC\",y='MSE')"
   ]
  },
  {
   "cell_type": "markdown",
   "id": "b6eebed1",
   "metadata": {},
   "source": [
    "# 3."
   ]
  },
  {
   "cell_type": "code",
   "execution_count": null,
   "id": "792a67ff",
   "metadata": {},
   "outputs": [],
   "source": [
    "smiling_original=B[:,0]\n",
    "orig_pic_vec=(smiling_original+mean_vec_s)*255\n",
    "test_pcs=[10,20,30,40,50,60,70,80,90,100]\n",
    "\n",
    "mse_data=[]\n",
    "for i,num_pc in enumerate(test_pcs): \n",
    "    reconstruction=reconstruct(smiling_original,mean_vec_s,evecs_new_s,num_pc=num_pc)\n",
    "    mse_val=mse(orig_pic_vec, reconstruction)\n",
    "    mse_data.append([num_pc,mse_val])\n",
    "    plt.imshow(reconstruction.reshape(193,162),cmap ='gray')\n",
    "    plt.title('P={}'.format(num_pc))\n",
    "    plt.savefig('P={},S'.format(num_pc),bbox_inches='tight')"
   ]
  },
  {
   "cell_type": "code",
   "execution_count": null,
   "id": "babe6735",
   "metadata": {},
   "outputs": [],
   "source": [
    "mse_data=pd.DataFrame(mse_data,columns=[\"Number of PC\",'MSE'])\n",
    "sns.scatterplot(data=mse_data,x=\"Number of PC\",y='MSE')"
   ]
  },
  {
   "cell_type": "markdown",
   "id": "be899185",
   "metadata": {},
   "source": [
    "# 4."
   ]
  },
  {
   "cell_type": "markdown",
   "id": "e7644523",
   "metadata": {},
   "source": [
    "### Neutral"
   ]
  },
  {
   "cell_type": "code",
   "execution_count": null,
   "id": "427a9a50",
   "metadata": {},
   "outputs": [],
   "source": [
    "C=neutral_data_test.copy()\n",
    "mean_vec_c=np.mean(C,axis=1)\n",
    "\n",
    "neutral_original=C[:,0]\n",
    "orig_pic_vec=neutral_original*255\n",
    "test_pcs=[10,20,30,40,50,60,70,80,90,100]\n",
    "\n",
    "mse_data=[]\n",
    "for i,num_pc in enumerate(test_pcs): \n",
    "    reconstruction=reconstruct(neutral_original,mean_vec_c,evecs_new,num_pc=num_pc)\n",
    "    mse_val=mse(orig_pic_vec, reconstruction)\n",
    "    mse_data.append([num_pc,mse_val])\n",
    "    plt.imshow(reconstruction.reshape(193,162),cmap ='gray')\n",
    "    plt.title('P={}'.format(num_pc))\n",
    "    plt.savefig('P={},Nt'.format(num_pc),bbox_inches='tight')"
   ]
  },
  {
   "cell_type": "code",
   "execution_count": null,
   "id": "c903babe",
   "metadata": {},
   "outputs": [],
   "source": [
    "mse_data=pd.DataFrame(mse_data,columns=[\"Number of PC\",'MSE'])\n",
    "sns.scatterplot(data=mse_data,x=\"Number of PC\",y='MSE')"
   ]
  },
  {
   "cell_type": "markdown",
   "id": "c82a9dc4",
   "metadata": {},
   "source": [
    "### Smiling"
   ]
  },
  {
   "cell_type": "code",
   "execution_count": null,
   "id": "2cdddeec",
   "metadata": {},
   "outputs": [],
   "source": [
    "D=smiling_data_test.copy()\n",
    "mean_vec_d=np.mean(D,axis=1)\n",
    "smiling_original=D[:,0]\n",
    "orig_pic_vec=smiling_original*255\n",
    "test_pcs=[10,20,30,40,50,60,70,80,90,100]\n",
    "\n",
    "mse_data=[]\n",
    "for i,num_pc in enumerate(test_pcs): \n",
    "    reconstruction=reconstruct(smiling_original,mean_vec_d,evecs_new_s,num_pc=num_pc)\n",
    "    mse_val=mse(orig_pic_vec, reconstruction)\n",
    "    mse_data.append([num_pc,mse_val])\n",
    "    plt.imshow(reconstruction.reshape(193,162),cmap ='gray')\n",
    "    plt.title('P={}'.format(num_pc))\n",
    "    plt.savefig('P={},St'.format(num_pc),bbox_inches='tight')"
   ]
  },
  {
   "cell_type": "code",
   "execution_count": null,
   "id": "25ed9e85",
   "metadata": {},
   "outputs": [],
   "source": [
    "mse_data=pd.DataFrame(mse_data,columns=[\"Number of PC\",'MSE'])\n",
    "sns.scatterplot(data=mse_data,x=\"Number of PC\",y='MSE')"
   ]
  },
  {
   "cell_type": "markdown",
   "id": "441df52f",
   "metadata": {},
   "source": [
    "# 5."
   ]
  },
  {
   "cell_type": "code",
   "execution_count": 24,
   "id": "e67f4d8a",
   "metadata": {},
   "outputs": [],
   "source": [
    "neutral_face_test_5='upload_dataset_60/*a.jpg'\n",
    "neutral_face_test_5=glob.glob(neutral_face_test_5)\n",
    "neutral_data_test_5=im2matrix(neutral_face_test_5)\n",
    "neutral_data_test_5=neutral_data_test_5/255\n",
    "neutral_data_test_5=neutral_data_test_5.T\n",
    "\n",
    "smiling_face_test_5='upload_dataset_60/*b.jpg'\n",
    "smiling_face_test_5=glob.glob(smiling_face_test_5)\n",
    "smiling_data_test_5=im2matrix(smiling_face_test_5)\n",
    "smiling_data_test_5=smiling_data_test_5/255\n",
    "smiling_data_test_5=smiling_data_test_5.T"
   ]
  },
  {
   "cell_type": "code",
   "execution_count": null,
   "id": "9ca99594",
   "metadata": {},
   "outputs": [],
   "source": [
    "E=neutral_data_test_5.copy()\n",
    "F=smiling_data_test_5.copy()\n",
    "mean_vec_e=np.mean(E,axis=1)\n",
    "mean_vec_f=np.mean(F,axis=1)\n",
    "flag_e=[]\n",
    "flag_f=[]\n",
    "for _ in range(60):\n",
    "    neutral_original=E[:,_]\n",
    "    smiling_original=F[:,_]\n",
    "    neutral_original=neutral_original-mean_vec_e\n",
    "    smiling_original=smiling_original-mean_vec_f\n",
    "    orig_pic_vec_n=neutral_original*255\n",
    "    orig_pic_vec_s=smiling_original*255\n",
    "    test_pcs_n=11\n",
    "    test_pcs_s=13\n",
    "    \n",
    "    e_reconstruction_n=reconstruct(neutral_original,mean_vec_e,evecs_new,num_pc=60)\n",
    "    e_reconstruction_s=reconstruct(neutral_original,mean_vec_e,evecs_new_s,num_pc=60)\n",
    "    mse_val_1=mse(orig_pic_vec_n,e_reconstruction_n)\n",
    "    mse_val_2=mse(orig_pic_vec_n,e_reconstruction_s)\n",
    "    if mse_val_1>mse_val_2:\n",
    "        flag_e.append(0)\n",
    "    else:\n",
    "        flag_e.append(1)\n",
    "    \n",
    "    f_reconstruction_n=reconstruct(smiling_original,mean_vec_f,evecs_new,num_pc=60)\n",
    "    f_reconstruction_s=reconstruct(smiling_original,mean_vec_f,evecs_new_s,num_pc=60)\n",
    "    mse_val_3=mse(orig_pic_vec_s,f_reconstruction_n)\n",
    "    mse_val_4=mse(orig_pic_vec_s,f_reconstruction_s)\n",
    "    if mse_val_3>mse_val_4:\n",
    "        flag_f.append(0)\n",
    "    else:\n",
    "        flag_f.append(1)\n",
    "    \n",
    "success_rate_n=sum(flag_e)/60\n",
    "success_rate_s=(60-sum(flag_f))/60\n",
    "print(success_rate_n)\n",
    "print(success_rate_s)"
   ]
  }
 ],
 "metadata": {
  "kernelspec": {
   "display_name": "Python 3",
   "language": "python",
   "name": "python3"
  },
  "language_info": {
   "codemirror_mode": {
    "name": "ipython",
    "version": 3
   },
   "file_extension": ".py",
   "mimetype": "text/x-python",
   "name": "python",
   "nbconvert_exporter": "python",
   "pygments_lexer": "ipython3",
   "version": "3.8.8"
  }
 },
 "nbformat": 4,
 "nbformat_minor": 5
}
